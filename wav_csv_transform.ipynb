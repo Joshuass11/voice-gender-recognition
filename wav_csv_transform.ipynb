{
 "cells": [
  {
   "cell_type": "code",
   "execution_count": 12,
   "id": "4bcf18cb",
   "metadata": {},
   "outputs": [
    {
     "name": "stdout",
     "output_type": "stream",
     "text": [
      "C:\\Users\\86198\\Desktop\n"
     ]
    }
   ],
   "source": [
    "import pandas as pd\n",
    "import rpy2.robjects as robjects\n",
    "from rpy2.robjects import r, pandas2ri\n",
    "import os\n",
    "os.chdir(r'C:\\Users\\86198\\Desktop')\n",
    "\n",
    "data_list = []\n",
    "\n",
    "#获取特征文件\n",
    "def get_feature(fname):\n",
    "    pandas2ri.activate()\n",
    "    robjects.r.source('feature_extract.R')  \t#利用rpy2读取R脚本\n",
    "    data_read = robjects.r.processFolder(fname) #得到数据文件\n",
    "    data_read = pandas2ri.ri2py(data_read)\t\t#转化为python可以使用的数据\n",
    "    return data_read\n",
    "\n",
    "if __name__ == '__main__':\n",
    "  \n",
    "    file_name_list = os.listdir('data')\t\t\t#存放.wav格式声音的文件夹\n",
    "    for file_name in file_name_list:\n",
    "        data=get_feature(file_name)\n",
    "        data_list.append(data)\n",
    "    print(os.getcwd())\n",
    "    result = pd.concat(data_list)\t\t\t\n",
    "    result['sex'] = 'male'\n",
    "    result.to_csv(\"test.csv\", index=False)\n",
    "    #result['label'] = 'female'\n",
    "    #result.to_csv(\"female.csv\", index=False)\n",
    "    #result.to_csv('test.csv',index=False)"
   ]
  },
  {
   "cell_type": "code",
   "execution_count": null,
   "id": "094bd8c2",
   "metadata": {
    "collapsed": true
   },
   "outputs": [],
   "source": []
  }
 ],
 "metadata": {
  "kernelspec": {
   "display_name": "Python 3",
   "language": "python",
   "name": "python3"
  },
  "language_info": {
   "codemirror_mode": {
    "name": "ipython",
    "version": 3
   },
   "file_extension": ".py",
   "mimetype": "text/x-python",
   "name": "python",
   "nbconvert_exporter": "python",
   "pygments_lexer": "ipython3",
   "version": "3.6.13"
  }
 },
 "nbformat": 4,
 "nbformat_minor": 5
}
