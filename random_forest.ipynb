{
 "cells": [
  {
   "cell_type": "code",
   "execution_count": 3,
   "id": "fb91c8cf",
   "metadata": {},
   "outputs": [
    {
     "name": "stderr",
     "output_type": "stream",
     "text": [
      "C:\\lyly\\envs\\tensorflowcpu\\lib\\site-packages\\ipykernel_launcher.py:7: DeprecationWarning: \n",
      ".ix is deprecated. Please use\n",
      ".loc for label based indexing or\n",
      ".iloc for positional indexing\n",
      "\n",
      "See the documentation here:\n",
      "http://pandas.pydata.org/pandas-docs/stable/indexing.html#ix-indexer-is-deprecated\n",
      "  import sys\n"
     ]
    },
    {
     "name": "stdout",
     "output_type": "stream",
     "text": [
      "[1 0 0 ... 0 1 1]\n",
      "1.0\n",
      "0.9797101449275363\n",
      "[[1.         0.        ]\n",
      " [0.08181818 0.91818182]\n",
      " [0.12727273 0.87272727]\n",
      " ...\n",
      " [0.03636364 0.96363636]\n",
      " [0.04545455 0.95454545]\n",
      " [0.00909091 0.99090909]]\n"
     ]
    }
   ],
   "source": [
    " import pandas as pd\n",
    "df = pd.read_csv(r'C:\\Users\\liuyuan\\.keras\\datasets\\sound\\train.csv') #训练集（有标签）\n",
    "df1 = pd.read_csv(r'C:\\Users\\liuyuan\\.keras\\datasets\\sound\\test.csv') #测试集（无标签）\n",
    "#print(df1.shape)\n",
    "from sklearn.model_selection import train_test_split\n",
    "#数据划分\n",
    "y=df.ix[:,-1] #将标签列置于此\n",
    "x=df.ix[:,:-1] #删除标签列\n",
    "#print(x.shape)\n",
    "xtrain,xtest,ytrain,ytest=train_test_split(x,y,test_size=0.3,random_state=100) #划分训练集和验证集（random_state的数据随便写，但必须得写）\n",
    "#print('y',y.shape)\n",
    "#print('x',x.shape)\n",
    "from sklearn.ensemble import RandomForestClassifier\n",
    "rf=RandomForestClassifier(n_estimators=110,max_features=3,random_state=0)#决策树的个数110个\n",
    "rf.fit(xtrain,ytrain) #训练模型\n",
    "\n",
    "train_predicted=rf.predict(xtrain)\n",
    "print(train_predicted) #输出训练集上的预测结果\n",
    "print(rf.score(xtrain,ytrain)) #输出训练集上的准确率\n",
    "\n",
    "print(rf.score(xtest,ytest)) #输出验证集上的准确率\n",
    "print(rf.predict_proba(df1)) #输出测试集上测试的结果（为百分比）\n",
    "numpy_data=rf.predict_proba(df1)\n",
    "f=open(r'C:\\Users\\liuyuan\\.keras\\datasets\\sound\\result.txt','w')\n",
    "for i in range (800):  #测试集的数据共800条\n",
    "    #print(i)\n",
    "    f.write('\\n'+str(numpy_data[i][1])) #写入的是预测为女性的概率\n",
    "f.close()\n",
    "\n"
   ]
  },
  {
   "cell_type": "code",
   "execution_count": null,
   "id": "8565391e",
   "metadata": {
    "collapsed": true
   },
   "outputs": [],
   "source": []
  }
 ],
 "metadata": {
  "kernelspec": {
   "display_name": "Python 3",
   "language": "python",
   "name": "python3"
  },
  "language_info": {
   "codemirror_mode": {
    "name": "ipython",
    "version": 3
   },
   "file_extension": ".py",
   "mimetype": "text/x-python",
   "name": "python",
   "nbconvert_exporter": "python",
   "pygments_lexer": "ipython3",
   "version": "3.6.13"
  }
 },
 "nbformat": 4,
 "nbformat_minor": 5
}
